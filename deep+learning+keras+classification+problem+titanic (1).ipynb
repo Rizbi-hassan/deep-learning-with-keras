{
 "cells": [
  {
   "cell_type": "code",
   "execution_count": 44,
   "metadata": {
    "collapsed": false
   },
   "outputs": [
    {
     "data": {
      "text/html": [
       "<div>\n",
       "<table border=\"1\" class=\"dataframe\">\n",
       "  <thead>\n",
       "    <tr style=\"text-align: right;\">\n",
       "      <th></th>\n",
       "      <th>survived</th>\n",
       "      <th>pclass</th>\n",
       "      <th>age</th>\n",
       "      <th>sibsp</th>\n",
       "      <th>parch</th>\n",
       "      <th>fare</th>\n",
       "      <th>male</th>\n",
       "      <th>age_was_missing</th>\n",
       "      <th>embarked_from_cherbourg</th>\n",
       "      <th>embarked_from_queenstown</th>\n",
       "      <th>embarked_from_southampton</th>\n",
       "    </tr>\n",
       "  </thead>\n",
       "  <tbody>\n",
       "    <tr>\n",
       "      <th>0</th>\n",
       "      <td>0</td>\n",
       "      <td>3</td>\n",
       "      <td>22.0</td>\n",
       "      <td>1</td>\n",
       "      <td>0</td>\n",
       "      <td>7.2500</td>\n",
       "      <td>1</td>\n",
       "      <td>False</td>\n",
       "      <td>0</td>\n",
       "      <td>0</td>\n",
       "      <td>1</td>\n",
       "    </tr>\n",
       "    <tr>\n",
       "      <th>1</th>\n",
       "      <td>1</td>\n",
       "      <td>1</td>\n",
       "      <td>38.0</td>\n",
       "      <td>1</td>\n",
       "      <td>0</td>\n",
       "      <td>71.2833</td>\n",
       "      <td>0</td>\n",
       "      <td>False</td>\n",
       "      <td>1</td>\n",
       "      <td>0</td>\n",
       "      <td>0</td>\n",
       "    </tr>\n",
       "    <tr>\n",
       "      <th>2</th>\n",
       "      <td>1</td>\n",
       "      <td>3</td>\n",
       "      <td>26.0</td>\n",
       "      <td>0</td>\n",
       "      <td>0</td>\n",
       "      <td>7.9250</td>\n",
       "      <td>0</td>\n",
       "      <td>False</td>\n",
       "      <td>0</td>\n",
       "      <td>0</td>\n",
       "      <td>1</td>\n",
       "    </tr>\n",
       "  </tbody>\n",
       "</table>\n",
       "</div>"
      ],
      "text/plain": [
       "   survived  pclass   age  sibsp  parch     fare  male age_was_missing  \\\n",
       "0         0       3  22.0      1      0   7.2500     1           False   \n",
       "1         1       1  38.0      1      0  71.2833     0           False   \n",
       "2         1       3  26.0      0      0   7.9250     0           False   \n",
       "\n",
       "   embarked_from_cherbourg  embarked_from_queenstown  \\\n",
       "0                        0                         0   \n",
       "1                        1                         0   \n",
       "2                        0                         0   \n",
       "\n",
       "   embarked_from_southampton  \n",
       "0                          1  \n",
       "1                          0  \n",
       "2                          1  "
      ]
     },
     "execution_count": 44,
     "metadata": {},
     "output_type": "execute_result"
    }
   ],
   "source": [
    "import pandas as pd\n",
    "import numpy as np\n",
    "                    #importing data\n",
    "url= \"https://assets.datacamp.com/production/repositories/654/datasets/92b75b9bc0c0a8a30999d76f4a1ee786ef072a9c/titanic_all_numeric.csv\"\n",
    "df= pd.read_csv(url)\n",
    "df.dropna()\n",
    "df.head(3)"
   ]
  },
  {
   "cell_type": "code",
   "execution_count": 45,
   "metadata": {
    "collapsed": false
   },
   "outputs": [],
   "source": [
    "import keras\n",
    "from keras.layers import Dense\n",
    "from keras.models import Sequential\n",
    "from keras.utils import to_categorical\n",
    "\n",
    "## this is my target variable \n",
    "target= to_categorical(df[\"survived\"])\n",
    "features= df.drop(\"survived\", axis=1).values\n"
   ]
  },
  {
   "cell_type": "code",
   "execution_count": 46,
   "metadata": {
    "collapsed": false
   },
   "outputs": [
    {
     "name": "stdout",
     "output_type": "stream",
     "text": [
      "_________________________________________________________________\n",
      "Layer (type)                 Output Shape              Param #   \n",
      "=================================================================\n",
      "layer_from_input (Dense)     (None, 50)                550       \n",
      "_________________________________________________________________\n",
      "2nd_layer (Dense)            (None, 50)                2550      \n",
      "_________________________________________________________________\n",
      "3nd_layer (Dense)            (None, 50)                2550      \n",
      "_________________________________________________________________\n",
      "output_layer (Dense)         (None, 2)                 102       \n",
      "=================================================================\n",
      "Total params: 5,752.0\n",
      "Trainable params: 5,752\n",
      "Non-trainable params: 0.0\n",
      "_________________________________________________________________\n"
     ]
    }
   ],
   "source": [
    "shape= X.shape[1]\n",
    "   ##creating the model###\n",
    "model=Sequential()\n",
    "\n",
    "model.add(Dense(50, activation='relu', input_shape=(shape,), name='layer_from_input'))\n",
    "model.add(Dense(50, activation='relu', name='2nd_layer'))\n",
    "model.add(Dense(50, activation='relu', name='3nd_layer'))\n",
    "\n",
    "###output layer, it has 2 nodes because classification gives two output: 0 and 1##\n",
    "model.add(Dense(2, activation='softmax', name='output_layer'))\n",
    "\n",
    "\n",
    "#compiling the model using SGD optimizer\n",
    "model.compile(optimizer= 'adam', loss= 'categorical_crossentropy', metrics= ['accuracy'])\n",
    "\n",
    "model.summary()\n"
   ]
  },
  {
   "cell_type": "code",
   "execution_count": 47,
   "metadata": {
    "collapsed": false
   },
   "outputs": [
    {
     "name": "stdout",
     "output_type": "stream",
     "text": [
      "Train on 712 samples, validate on 179 samples\n",
      "Epoch 1/30\n",
      "712/712 [==============================] - 0s - loss: 1.0353 - acc: 0.5801 - val_loss: 0.5409 - val_acc: 0.7039\n",
      "Epoch 2/30\n",
      "712/712 [==============================] - 0s - loss: 0.6570 - acc: 0.6433 - val_loss: 0.5432 - val_acc: 0.7151\n",
      "Epoch 3/30\n",
      "712/712 [==============================] - 0s - loss: 0.6430 - acc: 0.6643 - val_loss: 0.5527 - val_acc: 0.7263\n",
      "Epoch 4/30\n",
      "712/712 [==============================] - 0s - loss: 0.6195 - acc: 0.6643 - val_loss: 0.5248 - val_acc: 0.7430\n",
      "Epoch 5/30\n",
      "712/712 [==============================] - 0s - loss: 0.6161 - acc: 0.6756 - val_loss: 0.5136 - val_acc: 0.7430\n",
      "Epoch 6/30\n",
      "712/712 [==============================] - 0s - loss: 0.5951 - acc: 0.6896 - val_loss: 0.5211 - val_acc: 0.7318\n",
      "Epoch 7/30\n",
      "712/712 [==============================] - 0s - loss: 0.6151 - acc: 0.6868 - val_loss: 0.5111 - val_acc: 0.7654\n",
      "Epoch 8/30\n",
      "712/712 [==============================] - 0s - loss: 0.5995 - acc: 0.6966 - val_loss: 0.5209 - val_acc: 0.7542\n",
      "Epoch 9/30\n",
      "712/712 [==============================] - 0s - loss: 0.5919 - acc: 0.7219 - val_loss: 0.5161 - val_acc: 0.7374\n",
      "Epoch 10/30\n",
      "712/712 [==============================] - 0s - loss: 0.5853 - acc: 0.7079 - val_loss: 0.4869 - val_acc: 0.7654\n",
      "Epoch 11/30\n",
      "712/712 [==============================] - 0s - loss: 0.5978 - acc: 0.6826 - val_loss: 0.4661 - val_acc: 0.7765\n",
      "Epoch 12/30\n",
      "712/712 [==============================] - 0s - loss: 0.5864 - acc: 0.6882 - val_loss: 0.4633 - val_acc: 0.7709\n",
      "Epoch 13/30\n",
      "712/712 [==============================] - 0s - loss: 0.5755 - acc: 0.7079 - val_loss: 0.4785 - val_acc: 0.7430\n",
      "Epoch 14/30\n",
      "712/712 [==============================] - 0s - loss: 0.5535 - acc: 0.7317 - val_loss: 0.4570 - val_acc: 0.7821\n",
      "Epoch 15/30\n",
      "712/712 [==============================] - 0s - loss: 0.5488 - acc: 0.7430 - val_loss: 0.4457 - val_acc: 0.7654\n",
      "Epoch 16/30\n",
      "712/712 [==============================] - 0s - loss: 0.5332 - acc: 0.7374 - val_loss: 0.4485 - val_acc: 0.8156\n",
      "Epoch 17/30\n",
      "712/712 [==============================] - 0s - loss: 0.5432 - acc: 0.7374 - val_loss: 0.4358 - val_acc: 0.7765\n",
      "Epoch 18/30\n",
      "712/712 [==============================] - 0s - loss: 0.5302 - acc: 0.7584 - val_loss: 0.4238 - val_acc: 0.8101\n",
      "Epoch 19/30\n",
      "712/712 [==============================] - 0s - loss: 0.5117 - acc: 0.7486 - val_loss: 0.4137 - val_acc: 0.8156\n",
      "Epoch 20/30\n",
      "712/712 [==============================] - 0s - loss: 0.5332 - acc: 0.7640 - val_loss: 0.4143 - val_acc: 0.7821\n",
      "Epoch 21/30\n",
      "712/712 [==============================] - 0s - loss: 0.5327 - acc: 0.7472 - val_loss: 0.4051 - val_acc: 0.8324\n",
      "Epoch 22/30\n",
      "712/712 [==============================] - 0s - loss: 0.4929 - acc: 0.7851 - val_loss: 0.4123 - val_acc: 0.8101\n",
      "Epoch 23/30\n",
      "712/712 [==============================] - 0s - loss: 0.4999 - acc: 0.7739 - val_loss: 0.4366 - val_acc: 0.7989\n",
      "Epoch 24/30\n",
      "712/712 [==============================] - 0s - loss: 0.5164 - acc: 0.7697 - val_loss: 0.4149 - val_acc: 0.8380\n"
     ]
    },
    {
     "data": {
      "text/plain": [
       "<keras.callbacks.History at 0x1fc9bac6780>"
      ]
     },
     "execution_count": 47,
     "metadata": {},
     "output_type": "execute_result"
    }
   ],
   "source": [
    "## using earlystopping callback so that execution stops if accuracy value does not improve within 2 run\n",
    "from keras.callbacks import EarlyStopping\n",
    "early_monitor = EarlyStopping(patience=2)\n",
    "\n",
    "\n",
    "#train the model\n",
    "\n",
    "model.fit(features,target, epochs=30, validation_split=0.2, callbacks=[early_monitor])\n"
   ]
  },
  {
   "cell_type": "code",
   "execution_count": null,
   "metadata": {
    "collapsed": false
   },
   "outputs": [],
   "source": []
  },
  {
   "cell_type": "code",
   "execution_count": null,
   "metadata": {
    "collapsed": true
   },
   "outputs": [],
   "source": []
  },
  {
   "cell_type": "code",
   "execution_count": null,
   "metadata": {
    "collapsed": true
   },
   "outputs": [],
   "source": []
  },
  {
   "cell_type": "code",
   "execution_count": null,
   "metadata": {
    "collapsed": false
   },
   "outputs": [],
   "source": []
  },
  {
   "cell_type": "code",
   "execution_count": null,
   "metadata": {
    "collapsed": true
   },
   "outputs": [],
   "source": []
  },
  {
   "cell_type": "code",
   "execution_count": null,
   "metadata": {
    "collapsed": true
   },
   "outputs": [],
   "source": []
  },
  {
   "cell_type": "code",
   "execution_count": null,
   "metadata": {
    "collapsed": true
   },
   "outputs": [],
   "source": []
  }
 ],
 "metadata": {
  "anaconda-cloud": {},
  "kernelspec": {
   "display_name": "Python [default]",
   "language": "python",
   "name": "python3"
  },
  "language_info": {
   "codemirror_mode": {
    "name": "ipython",
    "version": 3
   },
   "file_extension": ".py",
   "mimetype": "text/x-python",
   "name": "python",
   "nbconvert_exporter": "python",
   "pygments_lexer": "ipython3",
   "version": "3.5.2"
  }
 },
 "nbformat": 4,
 "nbformat_minor": 1
}
