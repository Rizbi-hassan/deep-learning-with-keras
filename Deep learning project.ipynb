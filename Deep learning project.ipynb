{
 "cells": [
  {
   "cell_type": "code",
   "execution_count": 44,
   "metadata": {
    "collapsed": false
   },
   "outputs": [
    {
     "data": {
      "text/html": [
       "<div>\n",
       "<table border=\"1\" class=\"dataframe\">\n",
       "  <thead>\n",
       "    <tr style=\"text-align: right;\">\n",
       "      <th></th>\n",
       "      <th>survived</th>\n",
       "      <th>pclass</th>\n",
       "      <th>age</th>\n",
       "      <th>sibsp</th>\n",
       "      <th>parch</th>\n",
       "      <th>fare</th>\n",
       "      <th>male</th>\n",
       "      <th>age_was_missing</th>\n",
       "      <th>embarked_from_cherbourg</th>\n",
       "      <th>embarked_from_queenstown</th>\n",
       "      <th>embarked_from_southampton</th>\n",
       "    </tr>\n",
       "  </thead>\n",
       "  <tbody>\n",
       "    <tr>\n",
       "      <th>0</th>\n",
       "      <td>0</td>\n",
       "      <td>3</td>\n",
       "      <td>22.0</td>\n",
       "      <td>1</td>\n",
       "      <td>0</td>\n",
       "      <td>7.2500</td>\n",
       "      <td>1</td>\n",
       "      <td>False</td>\n",
       "      <td>0</td>\n",
       "      <td>0</td>\n",
       "      <td>1</td>\n",
       "    </tr>\n",
       "    <tr>\n",
       "      <th>1</th>\n",
       "      <td>1</td>\n",
       "      <td>1</td>\n",
       "      <td>38.0</td>\n",
       "      <td>1</td>\n",
       "      <td>0</td>\n",
       "      <td>71.2833</td>\n",
       "      <td>0</td>\n",
       "      <td>False</td>\n",
       "      <td>1</td>\n",
       "      <td>0</td>\n",
       "      <td>0</td>\n",
       "    </tr>\n",
       "    <tr>\n",
       "      <th>2</th>\n",
       "      <td>1</td>\n",
       "      <td>3</td>\n",
       "      <td>26.0</td>\n",
       "      <td>0</td>\n",
       "      <td>0</td>\n",
       "      <td>7.9250</td>\n",
       "      <td>0</td>\n",
       "      <td>False</td>\n",
       "      <td>0</td>\n",
       "      <td>0</td>\n",
       "      <td>1</td>\n",
       "    </tr>\n",
       "  </tbody>\n",
       "</table>\n",
       "</div>"
      ],
      "text/plain": [
       "   survived  pclass   age  sibsp  parch     fare  male age_was_missing  \\\n",
       "0         0       3  22.0      1      0   7.2500     1           False   \n",
       "1         1       1  38.0      1      0  71.2833     0           False   \n",
       "2         1       3  26.0      0      0   7.9250     0           False   \n",
       "\n",
       "   embarked_from_cherbourg  embarked_from_queenstown  \\\n",
       "0                        0                         0   \n",
       "1                        1                         0   \n",
       "2                        0                         0   \n",
       "\n",
       "   embarked_from_southampton  \n",
       "0                          1  \n",
       "1                          0  \n",
       "2                          1  "
      ]
     },
     "execution_count": 44,
     "metadata": {},
     "output_type": "execute_result"
    }
   ],
   "source": [
    "import pandas as pd\n",
    "import numpy as np\n",
    "                    #importing data\n",
    "url= \"https://assets.datacamp.com/production/repositories/654/datasets/92b75b9bc0c0a8a30999d76f4a1ee786ef072a9c/titanic_all_numeric.csv\"\n",
    "df= pd.read_csv(url)\n",
    "df.dropna()\n",
    "df.head(3)"
   ]
  },
  {
   "cell_type": "code",
   "execution_count": 45,
   "metadata": {
    "collapsed": false
   },
   "outputs": [],
   "source": [
    "import keras\n",
    "from keras.layers import Dense\n",
    "from keras.models import Sequential\n",
    "from keras.utils import to_categorical\n",
    "\n",
    "## this is my target variable \n",
    "target= to_categorical(df[\"survived\"])\n",
    "features= df.drop(\"survived\", axis=1).values\n"
   ]
  },
  {
   "cell_type": "code",
   "execution_count": 84,
   "metadata": {
    "collapsed": false
   },
   "outputs": [
    {
     "name": "stdout",
     "output_type": "stream",
     "text": [
      "_________________________________________________________________\n",
      "Layer (type)                 Output Shape              Param #   \n",
      "=================================================================\n",
      "layer_from_input (Dense)     (None, 50)                550       \n",
      "_________________________________________________________________\n",
      "2nd_layer (Dense)            (None, 50)                2550      \n",
      "_________________________________________________________________\n",
      "3nd_layer (Dense)            (None, 50)                2550      \n",
      "_________________________________________________________________\n",
      "output_layer (Dense)         (None, 2)                 102       \n",
      "=================================================================\n",
      "Total params: 5,752.0\n",
      "Trainable params: 5,752\n",
      "Non-trainable params: 0.0\n",
      "_________________________________________________________________\n"
     ]
    }
   ],
   "source": [
    "shape= X.shape[1]\n",
    "   ##creating the model###\n",
    "model=Sequential()\n",
    "\n",
    "model.add(Dense(50, activation='relu', input_shape=(shape,), name='layer_from_input'))\n",
    "model.add(Dense(50, activation='relu', name='2nd_layer'))\n",
    "model.add(Dense(50, activation='relu', name='3nd_layer'))\n",
    "\n",
    "###output layer, it has 2 nodes because classification gives two output: 0 and 1##\n",
    "model.add(Dense(2, activation='softmax', name='output_layer'))\n",
    "\n",
    "\n",
    "#compiling the model using adam optimizer\n",
    "model.compile(optimizer= 'adam', loss= 'categorical_crossentropy', metrics= ['accuracy'])\n",
    "\n",
    "model.summary()\n"
   ]
  },
  {
   "cell_type": "code",
   "execution_count": 85,
   "metadata": {
    "collapsed": false
   },
   "outputs": [
    {
     "name": "stdout",
     "output_type": "stream",
     "text": [
      "Train on 712 samples, validate on 179 samples\n",
      "Epoch 1/30\n",
      "712/712 [==============================] - 0s - loss: 0.7559 - acc: 0.6348 - val_loss: 0.6182 - val_acc: 0.6257\n",
      "Epoch 2/30\n",
      "712/712 [==============================] - 0s - loss: 0.6687 - acc: 0.6615 - val_loss: 0.5413 - val_acc: 0.7598\n",
      "Epoch 3/30\n",
      "712/712 [==============================] - 0s - loss: 0.6426 - acc: 0.6742 - val_loss: 0.5085 - val_acc: 0.7765\n",
      "Epoch 4/30\n",
      "712/712 [==============================] - 0s - loss: 0.6014 - acc: 0.6994 - val_loss: 0.5135 - val_acc: 0.7821\n",
      "Epoch 5/30\n",
      "712/712 [==============================] - 0s - loss: 0.5939 - acc: 0.7008 - val_loss: 0.5271 - val_acc: 0.7765\n",
      "Epoch 6/30\n",
      "712/712 [==============================] - 0s - loss: 0.6003 - acc: 0.6742 - val_loss: 0.4960 - val_acc: 0.7374\n",
      "Epoch 7/30\n",
      "712/712 [==============================] - 0s - loss: 0.5993 - acc: 0.7107 - val_loss: 0.5636 - val_acc: 0.6704\n",
      "Epoch 8/30\n",
      "712/712 [==============================] - 0s - loss: 0.6006 - acc: 0.6938 - val_loss: 0.5083 - val_acc: 0.7207\n",
      "Epoch 9/30\n",
      "712/712 [==============================] - 0s - loss: 0.5745 - acc: 0.7079 - val_loss: 0.4741 - val_acc: 0.7654\n",
      "Epoch 10/30\n",
      "712/712 [==============================] - 0s - loss: 0.5784 - acc: 0.6952 - val_loss: 0.4725 - val_acc: 0.8212\n",
      "Epoch 11/30\n",
      "712/712 [==============================] - 0s - loss: 0.5561 - acc: 0.7275 - val_loss: 0.4629 - val_acc: 0.7821\n",
      "Epoch 12/30\n",
      "712/712 [==============================] - 0s - loss: 0.5676 - acc: 0.7191 - val_loss: 0.4426 - val_acc: 0.7765\n",
      "Epoch 13/30\n",
      "712/712 [==============================] - 0s - loss: 0.5770 - acc: 0.7107 - val_loss: 0.4318 - val_acc: 0.8156\n",
      "Epoch 14/30\n",
      "712/712 [==============================] - 0s - loss: 0.5680 - acc: 0.7107 - val_loss: 0.4670 - val_acc: 0.8324\n",
      "Epoch 15/30\n",
      "712/712 [==============================] - 0s - loss: 0.5771 - acc: 0.7219 - val_loss: 0.5466 - val_acc: 0.7765\n",
      "Epoch 16/30\n",
      "712/712 [==============================] - 0s - loss: 0.5676 - acc: 0.7303 - val_loss: 0.4718 - val_acc: 0.8156\n",
      "Epoch 17/30\n",
      "712/712 [==============================] - 0s - loss: 0.5533 - acc: 0.7472 - val_loss: 0.5036 - val_acc: 0.7709\n"
     ]
    },
    {
     "data": {
      "text/plain": [
       "<keras.callbacks.History at 0x1fca2bc30f0>"
      ]
     },
     "execution_count": 85,
     "metadata": {},
     "output_type": "execute_result"
    }
   ],
   "source": [
    "## using earlystopping callback so that execution stops if accuracy value does not improve within 2 run\n",
    "from keras.callbacks import EarlyStopping\n",
    "early_monitor = EarlyStopping(patience=3)\n",
    "\n",
    "\n",
    "#training and testing the model (80% training, 20% testing)\n",
    "\n",
    "model.fit(features,target, epochs=30, validation_split=0.2, callbacks=[early_monitor])\n"
   ]
  },
  {
   "cell_type": "raw",
   "metadata": {
    "collapsed": false
   },
   "source": [
    "\n",
    "\n",
    "# since there is no more improvement in the val_loss in 3 epochs, the code stopped. \n",
    "This model's validation accuracy is 77.09% and loss is 0.5036\n",
    "\n",
    "\n"
   ]
  },
  {
   "cell_type": "code",
   "execution_count": 48,
   "metadata": {
    "collapsed": false
   },
   "outputs": [
    {
     "name": "stdout",
     "output_type": "stream",
     "text": [
      "_________________________________________________________________\n",
      "Layer (type)                 Output Shape              Param #   \n",
      "=================================================================\n",
      "layer_from_input (Dense)     (None, 50)                550       \n",
      "_________________________________________________________________\n",
      "2nd_layer (Dense)            (None, 50)                2550      \n",
      "_________________________________________________________________\n",
      "3nd_layer (Dense)            (None, 50)                2550      \n",
      "_________________________________________________________________\n",
      "4th_layer (Dense)            (None, 50)                2550      \n",
      "_________________________________________________________________\n",
      "output_layer (Dense)         (None, 2)                 102       \n",
      "=================================================================\n",
      "Total params: 8,302.0\n",
      "Trainable params: 8,302\n",
      "Non-trainable params: 0.0\n",
      "_________________________________________________________________\n"
     ]
    }
   ],
   "source": [
    "## creating another model by adding another layer\n",
    "   ##creating the model_2###\n",
    "model_2=Sequential()\n",
    "\n",
    "model_2.add(Dense(50, activation='relu', input_shape=(shape,), name='layer_from_input'))\n",
    "model_2.add(Dense(50, activation='relu', name='2nd_layer'))\n",
    "model_2.add(Dense(50, activation='relu', name='3nd_layer'))\n",
    "model_2.add(Dense(50, activation='relu', name='4th_layer'))\n",
    "\n",
    "###output layer, it has 2 nodes because classification gives two output: 0 and 1##\n",
    "model_2.add(Dense(2, activation='softmax', name='output_layer'))\n",
    "\n",
    "\n",
    "#compiling the model using adam optimizer\n",
    "model_2.compile(optimizer= 'adam', loss= 'categorical_crossentropy', metrics= ['accuracy'])\n",
    "\n",
    "model_2.summary()\n"
   ]
  },
  {
   "cell_type": "code",
   "execution_count": 50,
   "metadata": {
    "collapsed": false
   },
   "outputs": [
    {
     "name": "stdout",
     "output_type": "stream",
     "text": [
      "Train on 712 samples, validate on 179 samples\n",
      "Epoch 1/30\n",
      "712/712 [==============================] - 0s - loss: 0.5994 - acc: 0.6840 - val_loss: 0.4874 - val_acc: 0.7542\n",
      "Epoch 2/30\n",
      "712/712 [==============================] - 0s - loss: 0.6271 - acc: 0.6784 - val_loss: 0.5032 - val_acc: 0.7486\n",
      "Epoch 3/30\n",
      "712/712 [==============================] - 0s - loss: 0.6224 - acc: 0.7008 - val_loss: 0.5274 - val_acc: 0.7430\n",
      "Epoch 4/30\n",
      "712/712 [==============================] - 0s - loss: 0.6357 - acc: 0.6629 - val_loss: 0.4954 - val_acc: 0.7542\n",
      "Epoch 5/30\n",
      "712/712 [==============================] - 0s - loss: 0.5627 - acc: 0.7107 - val_loss: 0.4707 - val_acc: 0.7654\n",
      "Epoch 6/30\n",
      "712/712 [==============================] - 0s - loss: 0.5755 - acc: 0.7008 - val_loss: 0.5595 - val_acc: 0.6872\n",
      "Epoch 7/30\n",
      "712/712 [==============================] - 0s - loss: 0.5777 - acc: 0.7022 - val_loss: 0.4630 - val_acc: 0.7989\n",
      "Epoch 8/30\n",
      "712/712 [==============================] - 0s - loss: 0.5527 - acc: 0.7079 - val_loss: 0.4583 - val_acc: 0.7654\n",
      "Epoch 9/30\n",
      "712/712 [==============================] - 0s - loss: 0.5448 - acc: 0.7303 - val_loss: 0.4670 - val_acc: 0.7318\n",
      "Epoch 10/30\n",
      "712/712 [==============================] - 0s - loss: 0.5512 - acc: 0.7205 - val_loss: 0.5517 - val_acc: 0.7542\n",
      "Epoch 11/30\n",
      "712/712 [==============================] - 0s - loss: 0.5477 - acc: 0.7556 - val_loss: 0.5376 - val_acc: 0.7821\n",
      "Epoch 12/30\n",
      "712/712 [==============================] - 0s - loss: 0.5295 - acc: 0.7654 - val_loss: 0.5034 - val_acc: 0.7374\n"
     ]
    },
    {
     "data": {
      "text/plain": [
       "<keras.callbacks.History at 0x1fc9d1cde10>"
      ]
     },
     "execution_count": 50,
     "metadata": {},
     "output_type": "execute_result"
    }
   ],
   "source": [
    "from keras.callbacks import EarlyStopping\n",
    "early_monitor = EarlyStopping(patience=3)\n",
    "\n",
    "\n",
    "#training and testing the model (80% training, 20% testing)\n",
    "\n",
    "model_2.fit(features,target, epochs=30, validation_split=0.2, callbacks=[early_monitor])"
   ]
  },
  {
   "cell_type": "raw",
   "metadata": {
    "collapsed": false
   },
   "source": [
    "# since there is no more improvement in the val_loss in 3 epochs, the code stopped. \n",
    "This model's validation accuracy is 73.74% and loss is 0.5034"
   ]
  },
  {
   "cell_type": "code",
   "execution_count": 51,
   "metadata": {
    "collapsed": false
   },
   "outputs": [
    {
     "name": "stdout",
     "output_type": "stream",
     "text": [
      "_________________________________________________________________\n",
      "Layer (type)                 Output Shape              Param #   \n",
      "=================================================================\n",
      "layer_from_input (Dense)     (None, 150)               1650      \n",
      "_________________________________________________________________\n",
      "2nd_layer (Dense)            (None, 150)               22650     \n",
      "_________________________________________________________________\n",
      "3nd_layer (Dense)            (None, 150)               22650     \n",
      "_________________________________________________________________\n",
      "output_layer (Dense)         (None, 2)                 302       \n",
      "=================================================================\n",
      "Total params: 47,252.0\n",
      "Trainable params: 47,252\n",
      "Non-trainable params: 0.0\n",
      "_________________________________________________________________\n"
     ]
    }
   ],
   "source": [
    "## creating another model by removing one layer but adding more nodes(or neurons)\n",
    "   ##creating the model###\n",
    "model_3=Sequential()\n",
    "\n",
    "model_3.add(Dense(150, activation='relu', input_shape=(shape,), name='layer_from_input'))\n",
    "model_3.add(Dense(150, activation='relu', name='2nd_layer'))\n",
    "model_3.add(Dense(150, activation='relu', name='3nd_layer'))\n",
    "\n",
    "###output layer, it has 2 nodes because classification gives two output: 0 and 1##\n",
    "model_3.add(Dense(2, activation='softmax', name='output_layer'))\n",
    "\n",
    "\n",
    "#compiling the model using adam optimizer\n",
    "model_3.compile(optimizer= 'adam', loss= 'categorical_crossentropy', metrics= ['accuracy'])\n",
    "\n",
    "model_3.summary()\n"
   ]
  },
  {
   "cell_type": "code",
   "execution_count": 52,
   "metadata": {
    "collapsed": false
   },
   "outputs": [
    {
     "name": "stdout",
     "output_type": "stream",
     "text": [
      "Train on 712 samples, validate on 179 samples\n",
      "Epoch 1/30\n",
      "712/712 [==============================] - 0s - loss: 1.0402 - acc: 0.5688 - val_loss: 0.6784 - val_acc: 0.6257\n",
      "Epoch 2/30\n",
      "712/712 [==============================] - 0s - loss: 0.7630 - acc: 0.6362 - val_loss: 0.6785 - val_acc: 0.6927\n",
      "Epoch 3/30\n",
      "712/712 [==============================] - 0s - loss: 0.7611 - acc: 0.6180 - val_loss: 0.5348 - val_acc: 0.7486\n",
      "Epoch 4/30\n",
      "712/712 [==============================] - 0s - loss: 0.6295 - acc: 0.6924 - val_loss: 0.6015 - val_acc: 0.6425\n",
      "Epoch 5/30\n",
      "712/712 [==============================] - 0s - loss: 0.6656 - acc: 0.6615 - val_loss: 0.5082 - val_acc: 0.7654\n",
      "Epoch 6/30\n",
      "712/712 [==============================] - 0s - loss: 0.5887 - acc: 0.6966 - val_loss: 0.5023 - val_acc: 0.7542\n",
      "Epoch 7/30\n",
      "712/712 [==============================] - 0s - loss: 0.5949 - acc: 0.6938 - val_loss: 0.4882 - val_acc: 0.7709\n",
      "Epoch 8/30\n",
      "712/712 [==============================] - 0s - loss: 0.5996 - acc: 0.6840 - val_loss: 0.4785 - val_acc: 0.7598\n",
      "Epoch 9/30\n",
      "712/712 [==============================] - 0s - loss: 0.5727 - acc: 0.6896 - val_loss: 0.4639 - val_acc: 0.7542\n",
      "Epoch 10/30\n",
      "712/712 [==============================] - 0s - loss: 0.7038 - acc: 0.6671 - val_loss: 0.6279 - val_acc: 0.6425\n",
      "Epoch 11/30\n",
      "712/712 [==============================] - 0s - loss: 0.6237 - acc: 0.6854 - val_loss: 0.4989 - val_acc: 0.7765\n",
      "Epoch 12/30\n",
      "712/712 [==============================] - 0s - loss: 0.5773 - acc: 0.6910 - val_loss: 0.4501 - val_acc: 0.7821\n",
      "Epoch 13/30\n",
      "712/712 [==============================] - 0s - loss: 0.5779 - acc: 0.7135 - val_loss: 0.4477 - val_acc: 0.7821\n",
      "Epoch 14/30\n",
      "712/712 [==============================] - 0s - loss: 0.5522 - acc: 0.7121 - val_loss: 0.5133 - val_acc: 0.7039\n",
      "Epoch 15/30\n",
      "712/712 [==============================] - 0s - loss: 0.5539 - acc: 0.7177 - val_loss: 0.4854 - val_acc: 0.8045\n",
      "Epoch 16/30\n",
      "712/712 [==============================] - 0s - loss: 0.5365 - acc: 0.7205 - val_loss: 0.4292 - val_acc: 0.8156\n",
      "Epoch 17/30\n",
      "712/712 [==============================] - 0s - loss: 0.5496 - acc: 0.7346 - val_loss: 0.4298 - val_acc: 0.8324\n",
      "Epoch 18/30\n",
      "712/712 [==============================] - 0s - loss: 0.5289 - acc: 0.7654 - val_loss: 0.4557 - val_acc: 0.7877\n",
      "Epoch 19/30\n",
      "712/712 [==============================] - 0s - loss: 0.5417 - acc: 0.7584 - val_loss: 0.3989 - val_acc: 0.7877\n",
      "Epoch 20/30\n",
      "712/712 [==============================] - 0s - loss: 0.5040 - acc: 0.7669 - val_loss: 0.3993 - val_acc: 0.8212\n",
      "Epoch 21/30\n",
      "712/712 [==============================] - 0s - loss: 0.4988 - acc: 0.7851 - val_loss: 0.4967 - val_acc: 0.7095\n",
      "Epoch 22/30\n",
      "712/712 [==============================] - 0s - loss: 0.5129 - acc: 0.7725 - val_loss: 0.4082 - val_acc: 0.8324\n",
      "Epoch 23/30\n",
      "712/712 [==============================] - 0s - loss: 0.5157 - acc: 0.7640 - val_loss: 0.3973 - val_acc: 0.8547\n",
      "Epoch 24/30\n",
      "712/712 [==============================] - 0s - loss: 0.4834 - acc: 0.7978 - val_loss: 0.4793 - val_acc: 0.7989\n",
      "Epoch 25/30\n",
      "712/712 [==============================] - 0s - loss: 0.5328 - acc: 0.7781 - val_loss: 0.3973 - val_acc: 0.8156\n",
      "Epoch 26/30\n",
      "712/712 [==============================] - 0s - loss: 0.4746 - acc: 0.7893 - val_loss: 0.3820 - val_acc: 0.8156\n",
      "Epoch 27/30\n",
      "712/712 [==============================] - 0s - loss: 0.4679 - acc: 0.7949 - val_loss: 0.4015 - val_acc: 0.8324\n",
      "Epoch 28/30\n",
      "712/712 [==============================] - 0s - loss: 0.4786 - acc: 0.7865 - val_loss: 0.3709 - val_acc: 0.8436\n",
      "Epoch 29/30\n",
      "712/712 [==============================] - 0s - loss: 0.4784 - acc: 0.7949 - val_loss: 0.3660 - val_acc: 0.8659\n",
      "Epoch 30/30\n",
      "712/712 [==============================] - 0s - loss: 0.4661 - acc: 0.7879 - val_loss: 0.4997 - val_acc: 0.8101\n"
     ]
    },
    {
     "data": {
      "text/plain": [
       "<keras.callbacks.History at 0x1fc9e5240b8>"
      ]
     },
     "execution_count": 52,
     "metadata": {},
     "output_type": "execute_result"
    }
   ],
   "source": [
    "from keras.callbacks import EarlyStopping\n",
    "early_monitor = EarlyStopping(patience=3)\n",
    "\n",
    "\n",
    "#training and testing the model (80% training, 20% testing)\n",
    "\n",
    "model_3.fit(features,target, epochs=30, validation_split=0.2, callbacks=[early_monitor])"
   ]
  },
  {
   "cell_type": "raw",
   "metadata": {},
   "source": [
    "## now the validation_accuracy increased to 81%\n",
    "\n",
    "# since there is no more improvement in the val_loss in 3 epochs, the code stopped. \n",
    "This model's validation accuracy is 81.01% and loss is 0.4997\n",
    "\n",
    "## creating another model by removing one layer but adding more nodes(or neurons)\n",
    "\n",
    "\n"
   ]
  },
  {
   "cell_type": "code",
   "execution_count": 54,
   "metadata": {
    "collapsed": false
   },
   "outputs": [
    {
     "name": "stdout",
     "output_type": "stream",
     "text": [
      "_________________________________________________________________\n",
      "Layer (type)                 Output Shape              Param #   \n",
      "=================================================================\n",
      "layer_from_input (Dense)     (None, 150)               1650      \n",
      "_________________________________________________________________\n",
      "2nd_layer (Dense)            (None, 100)               15100     \n",
      "_________________________________________________________________\n",
      "3nd_layer (Dense)            (None, 100)               10100     \n",
      "_________________________________________________________________\n",
      "output_layer (Dense)         (None, 2)                 202       \n",
      "=================================================================\n",
      "Total params: 27,052.0\n",
      "Trainable params: 27,052\n",
      "Non-trainable params: 0.0\n",
      "_________________________________________________________________\n"
     ]
    }
   ],
   "source": [
    "   ##creating the model###\n",
    "model_4=Sequential()\n",
    "\n",
    "model_4.add(Dense(150, activation='relu', input_shape=(shape,), name='layer_from_input'))\n",
    "model_4.add(Dense(100, activation='relu', name='2nd_layer'))\n",
    "model_4.add(Dense(100, activation='relu', name='3nd_layer'))\n",
    "\n",
    "###output layer, it has 2 nodes because classification gives two output: 0 and 1##\n",
    "model_4.add(Dense(2, activation='softmax', name='output_layer'))\n",
    "\n",
    "\n",
    "#compiling the model using adam optimizer\n",
    "model_4.compile(optimizer= 'adam', loss= 'categorical_crossentropy', metrics= ['accuracy'])\n",
    "\n",
    "model_4.summary()"
   ]
  },
  {
   "cell_type": "code",
   "execution_count": 55,
   "metadata": {
    "collapsed": false
   },
   "outputs": [
    {
     "name": "stdout",
     "output_type": "stream",
     "text": [
      "Train on 712 samples, validate on 179 samples\n",
      "Epoch 1/30\n",
      "712/712 [==============================] - 0s - loss: 1.0871 - acc: 0.5843 - val_loss: 0.6230 - val_acc: 0.6983\n",
      "Epoch 2/30\n",
      "712/712 [==============================] - 0s - loss: 0.6446 - acc: 0.6615 - val_loss: 0.5831 - val_acc: 0.6816\n",
      "Epoch 3/30\n",
      "712/712 [==============================] - 0s - loss: 0.6984 - acc: 0.6531 - val_loss: 0.5335 - val_acc: 0.7263\n",
      "Epoch 4/30\n",
      "712/712 [==============================] - 0s - loss: 0.6253 - acc: 0.6952 - val_loss: 0.5406 - val_acc: 0.7374\n",
      "Epoch 5/30\n",
      "712/712 [==============================] - 0s - loss: 0.6202 - acc: 0.6854 - val_loss: 0.5648 - val_acc: 0.7542\n",
      "Epoch 6/30\n",
      "712/712 [==============================] - 0s - loss: 0.6001 - acc: 0.7107 - val_loss: 0.5414 - val_acc: 0.6983\n",
      "Epoch 7/30\n",
      "712/712 [==============================] - 0s - loss: 0.5847 - acc: 0.7037 - val_loss: 0.5568 - val_acc: 0.6760\n"
     ]
    },
    {
     "data": {
      "text/plain": [
       "<keras.callbacks.History at 0x1fc9ec45940>"
      ]
     },
     "execution_count": 55,
     "metadata": {},
     "output_type": "execute_result"
    }
   ],
   "source": [
    "from keras.callbacks import EarlyStopping\n",
    "early_monitor = EarlyStopping(patience=3)\n",
    "\n",
    "\n",
    "#training and testing the model (80% training, 20% testing)\n",
    "\n",
    "model_4.fit(features,target, epochs=30, validation_split=0.2, callbacks=[early_monitor])"
   ]
  },
  {
   "cell_type": "raw",
   "metadata": {},
   "source": [
    "## accuracy decreased furthur to 67.6% and loss increased to 0.5568. So this is not a good model. \n",
    "\n",
    "\n",
    "\n"
   ]
  },
  {
   "cell_type": "markdown",
   "metadata": {},
   "source": [
    "# The best model so far is model_3 whose validation accuracy is 81.01% and loss is 0.4997\n",
    "\n"
   ]
  },
  {
   "cell_type": "code",
   "execution_count": null,
   "metadata": {
    "collapsed": false
   },
   "outputs": [],
   "source": []
  },
  {
   "cell_type": "code",
   "execution_count": null,
   "metadata": {
    "collapsed": true
   },
   "outputs": [],
   "source": []
  },
  {
   "cell_type": "code",
   "execution_count": null,
   "metadata": {
    "collapsed": true
   },
   "outputs": [],
   "source": []
  }
 ],
 "metadata": {
  "anaconda-cloud": {},
  "kernelspec": {
   "display_name": "Python [default]",
   "language": "python",
   "name": "python3"
  },
  "language_info": {
   "codemirror_mode": {
    "name": "ipython",
    "version": 3
   },
   "file_extension": ".py",
   "mimetype": "text/x-python",
   "name": "python",
   "nbconvert_exporter": "python",
   "pygments_lexer": "ipython3",
   "version": "3.5.2"
  }
 },
 "nbformat": 4,
 "nbformat_minor": 1
}
